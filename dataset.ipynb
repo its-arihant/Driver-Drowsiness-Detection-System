{
 "cells": [
  {
   "cell_type": "code",
   "execution_count": 1,
   "id": "30a52057",
   "metadata": {},
   "outputs": [],
   "source": [
    "import os\n",
    "import shutil\n",
    "import glob\n",
    "from tqdm import tqdm"
   ]
  },
  {
   "cell_type": "code",
   "execution_count": 2,
   "id": "30e0b20e",
   "metadata": {},
   "outputs": [
    {
     "name": "stderr",
     "output_type": "stream",
     "text": [
      "0it [00:00, ?it/s]\n",
      "100%|██████████| 1114/1114 [00:13<00:00, 84.39it/s]\n",
      "100%|██████████| 679/679 [00:08<00:00, 76.08it/s]\n",
      "100%|██████████| 1069/1069 [00:15<00:00, 67.53it/s]\n",
      "100%|██████████| 736/736 [00:10<00:00, 67.85it/s]\n",
      "100%|██████████| 1012/1012 [00:14<00:00, 71.57it/s]\n",
      "100%|██████████| 624/624 [00:08<00:00, 69.85it/s]\n",
      "100%|██████████| 832/832 [00:12<00:00, 64.38it/s]\n",
      "100%|██████████| 387/387 [00:05<00:00, 70.85it/s]\n",
      "100%|██████████| 399/399 [00:05<00:00, 78.57it/s]\n",
      "100%|██████████| 1648/1648 [00:18<00:00, 87.86it/s] \n",
      "100%|██████████| 8728/8728 [01:36<00:00, 90.23it/s] \n",
      "100%|██████████| 3605/3605 [00:37<00:00, 95.17it/s] \n",
      "100%|██████████| 8884/8884 [01:36<00:00, 92.43it/s] \n",
      "100%|██████████| 1132/1132 [00:12<00:00, 93.45it/s] \n",
      "100%|██████████| 1889/1889 [00:22<00:00, 82.87it/s]\n",
      "100%|██████████| 1648/1648 [00:22<00:00, 74.53it/s]\n",
      "100%|██████████| 4410/4410 [00:54<00:00, 80.61it/s] \n",
      "100%|██████████| 6175/6175 [01:18<00:00, 78.59it/s] \n",
      "100%|██████████| 704/704 [00:09<00:00, 73.68it/s]\n",
      "100%|██████████| 987/987 [00:11<00:00, 88.23it/s] \n",
      "100%|██████████| 382/382 [00:04<00:00, 92.92it/s] \n",
      "100%|██████████| 522/522 [00:05<00:00, 94.95it/s] \n",
      "100%|██████████| 752/752 [00:08<00:00, 87.44it/s] \n",
      "100%|██████████| 1502/1502 [00:18<00:00, 79.17it/s] \n",
      "100%|██████████| 1246/1246 [00:14<00:00, 85.91it/s] \n",
      "100%|██████████| 665/665 [00:06<00:00, 101.57it/s]\n",
      "100%|██████████| 736/736 [00:08<00:00, 91.46it/s] \n",
      "100%|██████████| 1393/1393 [00:14<00:00, 96.25it/s] \n",
      "100%|██████████| 1384/1384 [00:14<00:00, 95.18it/s] \n",
      "100%|██████████| 1738/1738 [00:19<00:00, 90.62it/s] \n",
      "100%|██████████| 6162/6162 [00:51<00:00, 119.84it/s]\n",
      "100%|██████████| 681/681 [00:05<00:00, 116.27it/s]\n",
      "100%|██████████| 739/739 [00:05<00:00, 128.58it/s]\n",
      "100%|██████████| 642/642 [00:04<00:00, 151.58it/s]\n",
      "100%|██████████| 6193/6193 [00:39<00:00, 158.20it/s]\n",
      "100%|██████████| 10257/10257 [00:59<00:00, 171.42it/s]\n"
     ]
    }
   ],
   "source": [
    "Raw_DIR= r'C:\\Users\\ARIHANT\\Desktop\\driver drowsiness\\mrlEyes_2018_01\\mrlEyes_2018_01'\n",
    "for dirpath, dirname, filenames in os.walk(Raw_DIR):\n",
    "    for i in tqdm([f for f in filenames if f.endswith('.png')]):\n",
    "        if i.split('_')[4]=='0':\n",
    "            shutil.copy(src=dirpath+'/'+i, dst=r'C:\\Users\\ARIHANT\\Desktop\\driver drowsiness\\Prepared data\\Closed Eyes')\n",
    "        \n",
    "        elif i.split('_')[4]=='1':\n",
    "            shutil.copy(src=dirpath+'/'+i, dst=r'C:\\Users\\ARIHANT\\Desktop\\driver drowsiness\\Prepared data\\Open Eyes')"
   ]
  },
  {
   "cell_type": "code",
   "execution_count": null,
   "id": "18508a05",
   "metadata": {},
   "outputs": [],
   "source": []
  },
  {
   "cell_type": "code",
   "execution_count": null,
   "id": "cef9c331",
   "metadata": {},
   "outputs": [],
   "source": []
  }
 ],
 "metadata": {
  "kernelspec": {
   "display_name": "Python 3 (ipykernel)",
   "language": "python",
   "name": "python3"
  },
  "language_info": {
   "codemirror_mode": {
    "name": "ipython",
    "version": 3
   },
   "file_extension": ".py",
   "mimetype": "text/x-python",
   "name": "python",
   "nbconvert_exporter": "python",
   "pygments_lexer": "ipython3",
   "version": "3.9.12"
  }
 },
 "nbformat": 4,
 "nbformat_minor": 5
}
